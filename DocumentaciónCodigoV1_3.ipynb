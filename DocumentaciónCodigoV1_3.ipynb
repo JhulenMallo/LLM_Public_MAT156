{
  "nbformat": 4,
  "nbformat_minor": 0,
  "metadata": {
    "colab": {
      "provenance": []
    },
    "kernelspec": {
      "name": "python3",
      "display_name": "Python 3"
    },
    "language_info": {
      "name": "python"
    }
  },
  "cells": [
    {
      "cell_type": "code",
      "execution_count": null,
      "metadata": {
        "id": "oVSxUbh7qBKK"
      },
      "outputs": [],
      "source": [
        "# Importar el módulo 'locale' que permite acceder a la configuración regional del sistema.\n",
        "import locale\n",
        "# Imprimir la codificación preferida del sistema.\n",
        "print(locale.getpreferredencoding())\n",
        "\n",
        "# Los siguientes comandos están precedidos por '!', lo que indica que son comandos de shell\n",
        "# que se ejecutan desde un entorno de terminal o línea de comandos.\n",
        "\n",
        "# Mostrar información sobre las tarjetas gráficas NVIDIA instaladas.\n",
        "!nvidia-smi\n",
        "\n",
        "# Actualizar la herramienta 'pip' a la última versión, desactivando la barra de progreso.\n",
        "!pip install -Uqqq pip --progress-bar off\n",
        "\n",
        "# Instalar la versión específica 2.0.1 de la biblioteca 'torch' sin mostrar la barra de progreso.\n",
        "!pip install -qqq torch==2.0.1 --progress-bar off\n",
        "\n",
        "# Instalar la versión específica 2.1.0 de la biblioteca 'torch' sin mostrar la barra de progreso.\n",
        "!pip install -qqq torch==2.1.0 --progress-bar off\n",
        "\n",
        "# Instalar la versión específica 4.31.0 de la biblioteca 'transformers' sin mostrar la barra de progreso.\n",
        "!pip install -qqq transformers==4.31.0 --progress-bar off\n",
        "\n",
        "# Instalar la versión específica 0.0.266 de la biblioteca 'langchain' sin mostrar la barra de progreso.\n",
        "!pip install -qqq langchain==0.0.266 --progress-bar off\n",
        "\n",
        "# Instalar la versión específica 0.4.5 de la biblioteca 'chromadb' sin mostrar la barra de progreso.\n",
        "!pip install -qqq chromadb==0.4.5 --progress-bar off\n",
        "\n",
        "# Instalar la versión específica 3.15.0 de la biblioteca 'pypdf' sin mostrar la barra de progreso.\n",
        "!pip install -qqq pypdf==3.15.0 --progress-bar off\n",
        "\n",
        "# Instalar la versión específica 0.0.20 de la biblioteca 'xformers' sin mostrar la barra de progreso.\n",
        "!pip install -qqq xformers==0.0.20 --progress-bar off\n",
        "\n",
        "# Instalar la versión específica 2.2.2 de la biblioteca 'sentence_transformers' sin mostrar la barra de progreso.\n",
        "!pip install -qqq sentence_transformers==2.2.2 --progress-bar off\n",
        "\n",
        "# Instalar la versión específica 1.0.1 de la biblioteca 'InstructorEmbedding' sin mostrar la barra de progreso.\n",
        "!pip install -qqq InstructorEmbedding==1.0.1 --progress-bar off\n",
        "\n",
        "# Instalar la versión específica 1.16.3 de la biblioteca 'pdf2image' sin mostrar la barra de progreso.\n",
        "!pip install -qqq pdf2image==1.16.3 --progress-bar off\n",
        "\n",
        "# Instalar la versión específica 1.26.0 de la biblioteca 'streamlit' sin mostrar la barra de progreso.\n",
        "!pip install -qqq streamlit==1.26.0 --progress-bar off\n",
        "\n",
        "# Descargar el archivo auto_gptq-0.4.1+cu118-cp310-cp310-linux_x86_64.whl desde una URL sin mostrar la salida.\n",
        "!wget -q https://github.com/PanQiWei/AutoGPTQ/releases/download/v0.4.1/auto_gptq-0.4.1+cu118-cp310-cp310-linux_x86_64.whl\n",
        "\n",
        "# Instalar el archivo auto_gptq-0.4.1+cu118-cp310-cp310-linux_x86_64.whl sin mostrar la barra de progreso.\n",
        "!pip install -qqq auto_gptq-0.4.1+cu118-cp310-cp310-linux_x86_64.whl --progress-bar off\n",
        "\n",
        "# Instalar la utilidad 'poppler-utils' que proporciona herramientas para trabajar con documentos PDF.\n",
        "!sudo apt-get install poppler-utils\n",
        "\n",
        "# Crear un directorio llamado \"pdfs\".\n",
        "!mkdir pdfs\n",
        "\n",
        "# Descargar archivos PDF desde Google Drive utilizando el comando 'gdown' y guardarlos en el directorio \"pdfs\".\n",
        "# Las URL deben ser reemplazadas por las URL reales de los archivos PDF que deseas descargar.\n",
        "!gdown URL_DEL_PRIMER_PDF -O pdfs/chapra.pdf\n",
        "!gdown URL_DEL_SEGUNDO_PDF -O pdfs/mora.pdf\n",
        "!gdown URL_DEL_TERCER_PDF -O pdfs/proyecto.pdf\n",
        "!gdown URL_DEL_CUARTO_PDF -O pdfs/otro.pdf\n",
        "\n",
        "# Eliminar el directorio \"db\" de forma recursiva si existe.\n",
        "!rm -rf \"db\"\n"
      ]
    }
  ]
}